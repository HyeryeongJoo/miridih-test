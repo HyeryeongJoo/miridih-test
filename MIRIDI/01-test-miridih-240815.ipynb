{
 "cells": [
  {
   "cell_type": "markdown",
   "metadata": {},
   "source": [
    "# Power Point Slide 생성"
   ]
  },
  {
   "cell_type": "markdown",
   "metadata": {},
   "source": [
    "# 환경 설정\n",
    "\n",
    "#### 참조:  Bedrock 호출\n",
    "- 참고: https://docs.anthropic.com/en/api/claude-on-amazon-bedrock\n"
   ]
  },
  {
   "cell_type": "code",
   "execution_count": 2,
   "metadata": {},
   "outputs": [],
   "source": [
    "# pip install boto3"
   ]
  },
  {
   "cell_type": "code",
   "execution_count": 3,
   "metadata": {},
   "outputs": [],
   "source": [
    "%load_ext autoreload\n",
    "%autoreload 2"
   ]
  },
  {
   "cell_type": "markdown",
   "metadata": {},
   "source": [
    "# 시도1: Prompt Chaining\n",
    "\n",
    "1. 전체 아웃라인을 짜기 (initial prompt)\n",
    "2. 1번에서 짠 아웃라인에 맞춰서 디테일한 내용을 불렛 포인트로 정리한 슬라이드를 각각 만들기 (slide_prompt)"
   ]
  },
  {
   "cell_type": "markdown",
   "metadata": {},
   "source": [
    "##  1. Outline prompt 준비"
   ]
  },
  {
   "cell_type": "markdown",
   "metadata": {},
   "source": [
    "### 프롬프트 템플릿 파일 기술"
   ]
  },
  {
   "cell_type": "code",
   "execution_count": 4,
   "metadata": {},
   "outputs": [],
   "source": [
    "from util.prompt_util import *\n",
    "\n",
    "# 템플릿 파일의 경로를 지정합니다.\n",
    "prompt_folder = \"prompt_template\"\n",
    "outline_prompt_file_name = \"v01_outline_prompt_template.txt\""
   ]
  },
  {
   "cell_type": "markdown",
   "metadata": {},
   "source": [
    "### Outline Prompt Templae 로딩 및 토픽 추가"
   ]
  },
  {
   "cell_type": "code",
   "execution_count": 5,
   "metadata": {},
   "outputs": [
    {
     "name": "stdout",
     "output_type": "stream",
     "text": [
      "You are an expert in creating impactful and professional PowerPoint presentations. \n",
      "Create a detailed outline for a 20-slide presentation in Korean, ensuring a logical flow and comprehensive coverage of the topic.\n",
      "\n",
      "Analyze the given topic thoroughly to write in the provided <output_format> JSON format.\n",
      "Return only the JSON object without additional tags or explanations.\n",
      "\n",
      "<context>\n",
      "Paris 2024 Olympics Cloasing Ceremony Success Prediction\n",
      "</context>\n",
      "\n",
      "<instruction>\n",
      "1. Title:\n",
      "   - Create a compelling and concise main title that captures the essence of the presentation.\n",
      "\n",
      "2. Slides:\n",
      "   - Generate 20 slides, including an opening and a closing slide.\n",
      "   - For each slide:\n",
      "     - Assign a slide_number (01 to 20).\n",
      "     - Create a clear and informative slide_title.\n",
      "     \n",
      "3. Content Guidelines:\n",
      "   - Ensure a logical flow and structure throughout the presentation.\n",
      "   - Include an introduction slide (slide 02) and a conclusion slide (slide 19).   \n",
      "\n",
      "4. Common Points:\n",
      "   - Include the most important keywords related to the topic.\n",
      "   - Ensure each slide contributes to the overall narrative of the presentation.\n",
      "   - There should be no duplicate content between slides.\n",
      "   - Consider the target audience and tailor the content accordingly.\n",
      "</instruction>\n",
      "\n",
      "<output_format>\n",
      "Follow the provided JSON format exactly when writing the results. Strictly adhere to the meaning and format of each field.\n",
      "{\n",
      "    \"title\": \"[Main presentation title]\",\n",
      "    \"slides\": [\n",
      "        {\n",
      "            \"slide_number\": \"[number] (e.g., 01, 02, ..., 20)\",\n",
      "            \"slide_title\": \"[Slide title]\",\n",
      "        }\n",
      "    ]\n",
      "}\n",
      "</output_format>\n"
     ]
    }
   ],
   "source": [
    "from jinja2 import Template\n",
    "\n",
    "prompt_file_path = os.path.join(prompt_folder, outline_prompt_file_name)\n",
    "\n",
    "template_content = load_template_from_file(prompt_file_path)\n",
    "PROMPT_TEMPLATE = Template(template_content)\n",
    "\n",
    "TOPIC = \"Paris 2024 Olympics Cloasing Ceremony Success Prediction\"\n",
    "outline_prompt = PROMPT_TEMPLATE.render(topic=TOPIC)\n",
    "# print_json(prompt)\n",
    "print(outline_prompt)"
   ]
  },
  {
   "cell_type": "markdown",
   "metadata": {},
   "source": [
    "### outline prompt 실행"
   ]
  },
  {
   "cell_type": "code",
   "execution_count": 18,
   "metadata": {},
   "outputs": [],
   "source": [
    "outline, input_tokens, output_tokens = invoke_claude(outline_prompt)\n",
    "print(\"\\n## Overall Outline by Claude Sonnet3.5:\\n\")\n",
    "print(outline)\n",
    "print(f\"\\n Input tokens: {input_tokens}, Output tokens: {output_tokens}\")\n",
    "print(\"\\n\" + \"=\"*50 + \"\\n\")\n",
    "\n"
   ]
  },
  {
   "cell_type": "markdown",
   "metadata": {},
   "source": [
    "### 슬라이드 타이틀만 보기"
   ]
  },
  {
   "cell_type": "code",
   "execution_count": 7,
   "metadata": {},
   "outputs": [
    {
     "name": "stdout",
     "output_type": "stream",
     "text": [
      "프레젠테이션 제목: 2024 파리 올림픽 폐회식 성공 예측: 글로벌 축제의 화려한 마무리\n",
      "\n",
      "슬라이드 01: 2024 파리 올림픽 폐회식 성공 예측\n",
      "슬라이드 02: 소개: 올림픽 폐회식의 중요성\n",
      "슬라이드 03: 2024 파리 올림픽 개요\n",
      "슬라이드 04: 파리의 문화적 상징과 폐회식 테마\n",
      "슬라이드 05: 폐회식 장소: 센 강의 독특한 무대 설정\n",
      "슬라이드 06: 기술 혁신: AR과 드론 쇼의 활용\n",
      "슬라이드 07: 환경 친화적 접근: 지속 가능한 폐회식\n",
      "슬라이드 08: 예상 참가국 및 선수단 규모\n",
      "슬라이드 09: 문화 공연: 프랑스 예술의 정수\n",
      "슬라이드 10: 글로벌 시청자 참여 전략\n",
      "슬라이드 11: 보안 및 안전 대책\n",
      "슬라이드 12: 교통 및 숙박 인프라 준비\n",
      "슬라이드 13: 미디어 보도 및 중계 계획\n",
      "슬라이드 14: 디지털 플랫폼을 통한 글로벌 참여\n",
      "슬라이드 15: 경제적 영향: 관광 및 비즈니스 기회\n",
      "슬라이드 16: 올림픽 유산: 파리와 프랑스의 장기적 이익\n",
      "슬라이드 17: 이전 올림픽 폐회식과의 비교 분석\n",
      "슬라이드 18: 성공 지표 및 평가 기준\n",
      "슬라이드 19: 결론: 2024 파리 올림픽 폐회식 성공 전망\n",
      "슬라이드 20: 질의응답 및 토론\n"
     ]
    }
   ],
   "source": [
    "print_slide_titles(outline)"
   ]
  },
  {
   "cell_type": "markdown",
   "metadata": {},
   "source": [
    "## 2.각 슬라이드에 대한 프롬프트 생성"
   ]
  },
  {
   "cell_type": "code",
   "execution_count": 8,
   "metadata": {},
   "outputs": [
    {
     "data": {
      "text/plain": [
       "'You are an expert in creating impactful and professional PowerPoint presentations. \\nCreate a detailed outline for a 20-slide presentation in Korean, ensuring a logical flow and comprehensive coverage of the topic.\\n\\nBased on the following outline for a presentation on topic, \\ncreate detailed content for slide_title on slide number.\\nInclude bullet points and any relevant information that should be on this slide.\\nNow, provide detailed content for the slide\\n\\n<topic>\\n\\n</topic>\\n\\n<outline>\\n\\n</outline>\\n\\n<slide_number>\\n\\n</slide_number>\\n\\n<slide_title>\\n\\n</slide_title>'"
      ]
     },
     "execution_count": 8,
     "metadata": {},
     "output_type": "execute_result"
    }
   ],
   "source": [
    "#prompt_file_name = \"v01_slide_prompt_template.txt\"\n",
    "prompt_file_name = \"v02_slide_prompt_template.txt\"\n",
    "\n",
    "slide_prompt_file_path = os.path.join(prompt_folder, prompt_file_name)\n",
    "\n",
    "template_content = load_template_from_file(slide_prompt_file_path)\n",
    "slide_prompt_template = Template(template_content)\n",
    "slide_prompt_template.render()"
   ]
  },
  {
   "cell_type": "markdown",
   "metadata": {},
   "source": [
    "## 2번의 호출을 통해 슬라이드 생성\n",
    "- 1번째 호출에서 1~10번째 슬라이드 생성\n",
    "- 2번째 호출에서 11~20번째 슬라이드 생성"
   ]
  },
  {
   "cell_type": "code",
   "execution_count": 15,
   "metadata": {},
   "outputs": [
    {
     "name": "stdout",
     "output_type": "stream",
     "text": [
      "## slide_prompt: \n",
      " You are an expert in creating impactful and professional PowerPoint presentations. \n",
      "Create a detailed outline for a 20-slide presentation in Korean, ensuring a logical flow and comprehensive coverage of the topic.\n",
      "\n",
      "Based on the following outline for a presentation on topic, \n",
      "create detailed content for slide_title on slide number.\n",
      "Include bullet points and any relevant information that should be on this slide.\n",
      "Now, provide detailed content for the slide\n",
      "\n",
      "<topic>\n",
      "Paris 2024 Olympics Cloasing Ceremony Success Prediction\n",
      "</topic>\n",
      "\n",
      "<outline>\n",
      "Not Available\n",
      "</outline>\n",
      "\n",
      "<slide_number>\n",
      "['01', '02', '03']\n",
      "</slide_number>\n",
      "\n",
      "<slide_title>\n",
      "['2024 파리 올림픽 폐회식 성공 예측', '소개: 올림픽 폐회식의 중요성', '2024 파리 올림픽 개요']\n",
      "</slide_title>\n",
      "## slide_prompt: \n",
      " You are an expert in creating impactful and professional PowerPoint presentations. \n",
      "Create a detailed outline for a 20-slide presentation in Korean, ensuring a logical flow and comprehensive coverage of the topic.\n",
      "\n",
      "Based on the following outline for a presentation on topic, \n",
      "create detailed content for slide_title on slide number.\n",
      "Include bullet points and any relevant information that should be on this slide.\n",
      "Now, provide detailed content for the slide\n",
      "\n",
      "<topic>\n",
      "Paris 2024 Olympics Cloasing Ceremony Success Prediction\n",
      "</topic>\n",
      "\n",
      "<outline>\n",
      "Not Available\n",
      "</outline>\n",
      "\n",
      "<slide_number>\n",
      "['04', '05', '06']\n",
      "</slide_number>\n",
      "\n",
      "<slide_title>\n",
      "['파리의 문화적 상징과 폐회식 테마', '폐회식 장소: 센 강의 독특한 무대 설정', '기술 혁신: AR과 드론 쇼의 활용']\n",
      "</slide_title>\n"
     ]
    }
   ],
   "source": [
    "from util.prompt_util import create_slide_prompt, create_part_slide_prompt\n",
    "topic = \"Paris 2024 Olympics Cloasing Ceremony Success Prediction\"\n",
    "# include_outline = True\n",
    "# slide_prompt_list = create_slide_prompt(outline, slide_prompt_template, topic, include_outline=include_outline, max_slide_num=20)\n",
    "\n",
    "include_outline = False\n",
    "# slide_prompt_list = create_slide_prompt(outline, slide_prompt_template, topic, include_outline=include_outline, max_slide_num=20)\n",
    "slide_prompt_list = create_part_slide_prompt(outline, slide_prompt_template, topic, include_outline=include_outline, n_slide = 3, max_slide_num=6)\n",
    "\n"
   ]
  },
  {
   "cell_type": "markdown",
   "metadata": {},
   "source": [
    "### 슬라이드 생성"
   ]
  },
  {
   "cell_type": "markdown",
   "metadata": {},
   "source": [
    "#### 결과 폴더 생성"
   ]
  },
  {
   "cell_type": "code",
   "execution_count": 16,
   "metadata": {},
   "outputs": [],
   "source": [
    "from datetime import datetime\n",
    "import os\n",
    "\n",
    "currentDateAndTime = datetime.now()\n",
    "currentTime = currentDateAndTime.strftime(\"%Y-%m-%d-%H-%M-%S\")\n",
    "# print(\"The current time is\", currentTime)\n",
    "\n",
    "output_directory = \"./results\"\n",
    "output_directory = os.path.join(output_directory, currentTime)\n",
    "os.makedirs(output_directory, exist_ok=True)"
   ]
  },
  {
   "cell_type": "code",
   "execution_count": 17,
   "metadata": {},
   "outputs": [
    {
     "name": "stdout",
     "output_type": "stream",
     "text": [
      "슬라이드 1: 2024 파리 올림픽 폐회식 성공 예측\n",
      "\n",
      "• 제목: 2024 파리 올림픽 폐회식 성공 예측\n",
      "• 부제: 세계적 축제의 대미를 장식할 폐회식 분석\n",
      "• 발표자 이름 및 소속\n",
      "• 발표 일자\n",
      "• 간단한 이미지: 파리 에펠탑과 올림픽 로고 조합\n",
      "\n",
      "슬라이드 2: 소개: 올림픽 폐회식의 중요성\n",
      "\n",
      "• 올림픽 폐회식의 의미\n",
      "  - 대회의 공식적 종료\n",
      "  - 선수들의 노력에 대한 축하\n",
      "  - 개최국의 문화와 성과 showcase\n",
      "• 폐회식이 미치는 영향\n",
      "  - 전 세계적 관심 집중\n",
      "  - 개최국의 이미지 제고\n",
      "  - 차기 올림픽에 대한 기대 고조\n",
      "• 성공적인 폐회식의 요소\n",
      "  - 문화적 다양성 반영\n",
      "  - 기술적 혁신\n",
      "  - 감동적인 연출\n",
      "\n",
      "슬라이드 3: 2024 파리 올림픽 개요\n",
      "\n",
      "• 개최 기간: 2024년 7월 26일 - 8월 11일\n",
      "• 개최지: 프랑스 파리\n",
      "• 주요 특징:\n",
      "  - 100주년 기념 (1924년 파리 올림픽 이후)\n",
      "  - 지속 가능성에 중점을 둔 \"탄소 중립\" 올림픽\n",
      "• 경기장 수: 35개 (기존 26개, 임시 9개)\n",
      "• 참가 예상 국가: 206개국\n",
      "• 종목 수: 32개 종목, 329개 세부 경기\n",
      "• 슬로건: \"Games Wide Open\" (모두에게 열린 올림픽)\n",
      "1th call: Input tokens: 226, Output tokens: 584 \n",
      "\n",
      "각 슬라이드에 대한 상세 내용을 제공하겠습니다:\n",
      "\n",
      "슬라이드 04: 파리의 문화적 상징과 폐회식 테마\n",
      "\n",
      "• 에펠탑: 파리의 대표적 랜드마크로 폐회식의 중심 배경\n",
      "• 루브르 박물관: 예술과 역사를 상징, 문화적 요소 강조\n",
      "• 노트르담 대성당: 파리의 역사적 유산 표현\n",
      "• 테마: \"파리의 빛(Light of Paris)\"\n",
      "  - 예술, 문화, 혁신의 도시 이미지 강조\n",
      "  - 조명과 빛을 활용한 화려한 연출 예상\n",
      "• 프랑스 혁명 정신: 자유, 평등, 박애 가치 반영\n",
      "• 샹젤리제 거리: 축제의 분위기와 파리의 활기 표현\n",
      "\n",
      "슬라이드 05: 폐회식 장소: 센 강의 독특한 무대 설정\n",
      "\n",
      "• 센 강: 파리의 심장부를 가로지르는 상징적 장소\n",
      "• 수상 무대: 강 위에 설치된 혁신적인 부유 구조물\n",
      "  - 길이: 약 1.5km\n",
      "  - 수용 인원: 약 10만 명의 관중석\n",
      "• 주변 건물 활용: 센 강 양옆 건물들을 배경으로 활용\n",
      "• 다리 활용: 폰트 뇌프, 알렉산드르 3세 다리 등을 공연 장소로 활용\n",
      "• 선상 퍼레이드: 선수단과 공연자들의 특별한 이동 방식\n",
      "• 환경 친화적 설계: 지속 가능한 올림픽 정신 반영\n",
      "• 360도 관람 경험: 모든 방향에서 볼 수 있는 특별한 구조\n",
      "\n",
      "슬라이드 06: 기술 혁신: AR과 드론 쇼의 활용\n",
      "\n",
      "• 증강현실(AR) 기술:\n",
      "  - 관중들의 스마트폰을 통한 실시간 AR 경험\n",
      "  - 역사적 인물이나 상징물의 가상 등장\n",
      "• 대규모 드론 쇼:\n",
      "  - 3,000대 이상의 드론 동시 비행\n",
      "  - 파리의 상징물과 올림픽 로고 등 다양한 형상 구현\n",
      "• LED 기술:\n",
      "  - 수상 무대와 주변 건물에 대형 LED 스크린 설치\n",
      "  - 실시간 영상과 그래픽 효과 연출\n",
      "• 홀로그램 기술:\n",
      "  - 센 강 위 대형 홀로그램 퍼포먼스\n",
      "  - 과거 올림픽 명장면 재현\n",
      "• 인터랙티브 요소:\n",
      "  - 관중 참여형 빛과 소리 쇼\n",
      "  - 스마트폰 앱을 통한 실시간 상호작용\n",
      "• 5G 네트워크:\n",
      "  - 고화질 실시간 스트리밍 지원\n",
      "  - 전 세계 시청자들에게 몰입형 경험 제공\n",
      "2th call: Input tokens: 236, Output tokens: 987 \n",
      "\n",
      "\n",
      "==================================================\n",
      "\n",
      "PowerPoint presentation generation complete!\n",
      "Total Input Tokens: 462\n",
      "Total Output Tokens: 1571\n",
      "Processed and saved: ./results/2024-08-20-15-16-58/result_exclude_outline_each_slide.txt\n"
     ]
    }
   ],
   "source": [
    "from util.prompt_util import generate_slide_content\n",
    "generate_slide_content(slide_prompt_list, output_directory, include_outline)"
   ]
  },
  {
   "cell_type": "markdown",
   "metadata": {},
   "source": []
  },
  {
   "cell_type": "markdown",
   "metadata": {},
   "source": [
    "# 시도2: Zero shot prompting 이지만 Role-based prompting, Task-specific instructions, Content structuring, Output constraints를 사용\n",
    ": Structure the presentation을 미리 prompt (presentation_prompt) 에 써주고, 각 슬라이드의 아웃풋 토큰 개수에 제한을 두기"
   ]
  },
  {
   "cell_type": "markdown",
   "metadata": {},
   "source": [
    "### 프롬프트 로딩"
   ]
  },
  {
   "cell_type": "code",
   "execution_count": 37,
   "metadata": {},
   "outputs": [
    {
     "name": "stdout",
     "output_type": "stream",
     "text": [
      "You are an expert in creating impactful and professional PowerPoint presentations. \n",
      "Create a detailed outline for a 20-slide presentation in Korean, \n",
      "ensuring a logical flow and comprehensive coverage of the topic.\n",
      "\n",
      "<topic>\n",
      "Paris 2024 Olympics Cloasing Ceremony Success Prediction\n",
      "</topic>\n",
      "\n",
      "<instruction>\n",
      "For each slide, provide:\n",
      "1. A clear and concise title\n",
      "2. 3-5 bullet points of key information\n",
      "3. Any relevant data or statistics (if applicable)\n",
      "\n",
      "Structure the presentation as follows:\n",
      "- Slide 1: Introduction\n",
      "- Slides 2-3: Background and Context\n",
      "- Slides 4-7: Main Points and Analysis\n",
      "- Slides 8-9: Predictions and Potential Outcomes\n",
      "- Slide 10: Conclusion and Key Takeaways\n",
      "\n",
      "Present the content for all 20 slides in a clear, organized manner. \n",
      "The number of output tokens for each slide must not exceed 100\n",
      "</instruction>\n"
     ]
    }
   ],
   "source": [
    "all_prompt_file_name = \"v01_all_prompt_template.txt\"\n",
    "\n",
    "prompt_file_path = os.path.join(prompt_folder, all_prompt_file_name)\n",
    "\n",
    "template_content = load_template_from_file(prompt_file_path)\n",
    "PROMPT_TEMPLATE = Template(template_content)\n",
    "\n",
    "TOPIC = \"Paris 2024 Olympics Cloasing Ceremony Success Prediction\"\n",
    "presentation_prompt = PROMPT_TEMPLATE.render(topic=TOPIC)\n",
    "# print_json(prompt)\n",
    "print(presentation_prompt)"
   ]
  },
  {
   "cell_type": "markdown",
   "metadata": {},
   "source": [
    "### 슬라이드 생성"
   ]
  },
  {
   "cell_type": "code",
   "execution_count": 43,
   "metadata": {},
   "outputs": [
    {
     "name": "stdout",
     "output_type": "stream",
     "text": [
      "Generated Presentation Content:\n",
      "Here's a detailed outline for a 20-slide presentation on \"Paris 2024 Olympics Closing Ceremony Success Prediction\" in Korean:\n",
      "\n",
      "1. 제목: 파리 2024 올림픽 폐회식 성공 예측\n",
      "• 발표 주제 소개\n",
      "• 발표자 소개\n",
      "• 주요 논점 요약\n",
      "\n",
      "2. 올림픽 폐회식의 중요성\n",
      "• 올림픽 정신 구현\n",
      "• 개최국 문화 홍보\n",
      "• 전 세계 시청자 유치\n",
      "• 경제적 영향\n",
      "\n",
      "3. 과거 올림픽 폐회식 분석\n",
      "• 런던 2012: 8,000만 시청자\n",
      "• 리우 2016: 3,500만 시청자\n",
      "• 도쿄 2020: 코로나19로 인한 제한적 행사\n",
      "\n",
      "4. 파리 2024 올림픽 개요\n",
      "• 개최 일정: 2024년 7월 26일 - 8월 11일\n",
      "• 주요 경기장: 에펠탑, 베르사유 궁전 등\n",
      "• 예상 참가국: 206개국\n",
      "• 예상 관람객: 1,300만 명\n",
      "\n",
      "5. 파리의 문화적 강점\n",
      "• 세계적인 관광 도시\n",
      "• 풍부한 예술 및 문화 유산\n",
      "• 패션과 요리의 중심지\n",
      "• 혁신적인 기술 도시\n",
      "\n",
      "6. 폐회식 장소: 세느 강\n",
      "• 독특하고 혁신적인 선택\n",
      "• 파리의 상징적 장소\n",
      "• 16km 구간 활용\n",
      "• 예상 현장 관객: 60만 명\n",
      "\n",
      "7. 기술 혁신 예측\n",
      "• 증강현실(AR) 활용\n",
      "• 드론 쇼\n",
      "• 실시간 다국어 통역 서비스\n",
      "• 5G 기반 실시간 중계\n",
      "\n",
      "8. 환경 친화적 접근\n",
      "• 재생 에너지 100% 사용 목표\n",
      "• 탄소 중립 행사 계획\n",
      "• 재활용 소재 활용\n",
      "• 대중교통 이용 촉진\n",
      "\n",
      "9. 글로벌 참여 전략\n",
      "• 소셜 미디어 캠페인\n",
      "• 실시간 투표 및 상호작용\n",
      "• 가상현실(VR) 체험 제공\n",
      "• 다국적 아티스트 참여\n",
      "\n",
      "10. 결론 및 주요 시사점\n",
      "• 혁신적이고 지속 가능한 폐회식 예상\n",
      "• 높은 시청률 및 글로벌 참여 예측\n",
      "• 파리의 문화적 강점 극대화 기대\n",
      "\n",
      "11. 경제적 영향 예측\n",
      "• 예상 관광 수입: 30억 유로\n",
      "• 일자리 창출: 약 150,000개\n",
      "• TV 중계권 수익: 약 15억 달러\n",
      "• 스폰서십 수익: 약 10억 달러\n",
      "\n",
      "12. 안전 및 보안 대책\n",
      "• 첨단 안면인식 기술 도입\n",
      "• 대테러 특수부대 배치\n",
      "• 사이버 보안 강화\n",
      "• 응급의료 시스템 구축\n",
      "\n",
      "13. 코로나19 대응 전략\n",
      "• 백신 접종 증명서 확인\n",
      "• 실시간 PCR 검사 시행\n",
      "• 사회적 거리두기 지침 마련\n",
      "• 비대면 서비스 확대\n",
      "\n",
      "14. 교통 및 숙박 대책\n",
      "• 올림픽 전용 차선 운영\n",
      "• 대중교통 24시간 운영\n",
      "• 에어비앤비 협력 숙박 제공\n",
      "• 스마트 교통 정보 시스템 구축\n",
      "\n",
      "15. 문화 프로그램 계획\n",
      "• 세계 각국 문화 공연\n",
      "• 프랑스 전통 예술 쇼케이스\n",
      "• 현대 미술 전시회\n",
      "• 국제 음식 축제\n",
      "\n",
      "16. 자원봉사자 운영 계획\n",
      "• 예상 자원봉사자 수: 50,000명\n",
      "• 다국어 서비스 제공\n",
      "• 특별 교육 프로그램 운영\n",
      "• 자원봉사자 인센티브 제도\n",
      "\n",
      "17. 미디어 운영 전략\n",
      "• 국제방송센터(IBC) 운영\n",
      "• 5G 기반 실시간 중계\n",
      "• 소셜 미디어 실시간 업데이트\n",
      "• 360도 카메라 중계\n",
      "\n",
      "18. 지속 가능성 목표\n",
      "• 탄소 배출량 50% 감축\n",
      "• 재활용 소재 80% 사용\n",
      "• 식품 폐기물 80% 감소\n",
      "• 재생 에너지 100% 사용\n",
      "\n",
      "19. 레거시 프로그램\n",
      "• 스포츠 시설 지역사회 환원\n",
      "• 청소년 스포츠 프로그램 확대\n",
      "• 환경 보호 캠페인 지속\n",
      "• 올림픽 교육 프로그램 운영\n",
      "\n",
      "20. 폐회식 성공 예측 요약\n",
      "• 혁신적인 장소와 기술 활용\n",
      "• 강력한 문화적 콘텐츠\n",
      "• 높은 글로벌 참여도\n",
      "• 지속 가능성 목표 달성\n",
      "\n",
      "==================================================\n",
      "\n",
      "Total output tokens: 1571\n",
      "PowerPoint presentation generation complete!\n",
      "\n",
      "Individual Slides:\n",
      "Processed and saved: ./results/2024-08-18-14-03-01/result_all_slide.txt\n"
     ]
    }
   ],
   "source": [
    "from util.prompt_util import generate_all_slide_content\n",
    "\n",
    "generate_all_slide_content(presentation_prompt, output_directory)"
   ]
  },
  {
   "cell_type": "code",
   "execution_count": null,
   "metadata": {},
   "outputs": [],
   "source": []
  },
  {
   "cell_type": "code",
   "execution_count": null,
   "metadata": {},
   "outputs": [],
   "source": []
  }
 ],
 "metadata": {
  "kernelspec": {
   "display_name": "base",
   "language": "python",
   "name": "python3"
  },
  "language_info": {
   "codemirror_mode": {
    "name": "ipython",
    "version": 3
   },
   "file_extension": ".py",
   "mimetype": "text/x-python",
   "name": "python",
   "nbconvert_exporter": "python",
   "pygments_lexer": "ipython3",
   "version": "3.10.14"
  }
 },
 "nbformat": 4,
 "nbformat_minor": 2
}
